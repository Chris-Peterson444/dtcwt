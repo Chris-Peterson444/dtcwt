{
 "cells": [
  {
   "cell_type": "code",
   "execution_count": null,
   "metadata": {
    "deletable": true,
    "editable": true
   },
   "outputs": [],
   "source": []
  },
  {
   "cell_type": "code",
   "execution_count": null,
   "metadata": {
    "deletable": true,
    "editable": true
   },
   "outputs": [],
   "source": [
    "# Notebook to compare the timings between the numpy implementation and\n",
    "# the tensorflow implementation of the dtcwt"
   ]
  },
  {
   "cell_type": "code",
   "execution_count": null,
   "metadata": {
    "deletable": true,
    "editable": true
   },
   "outputs": [],
   "source": [
    "# colf = numpy implementation\n",
    "# colfilter = tf implementation"
   ]
  },
  {
   "cell_type": "code",
   "execution_count": null,
   "metadata": {
    "deletable": true,
    "editable": true
   },
   "outputs": [],
   "source": [
    "# First test a simple convolution\n",
    "f = Transform2d()\n",
    "h1o = tf.constant(f.qshift[0][::-1], dtype=tf.float32)\n",
    "in_ = tf.placeholder(tf.float32, shape=[None, 512, 512])\n",
    "im_hat = colf(im, f.qshift[0].astype('float32'))\n",
    "y1 = colfilter(in_, h1o)\n",
    "y2 = rowfilter(in_,h1o)"
   ]
  },
  {
   "cell_type": "code",
   "execution_count": null,
   "metadata": {
    "deletable": true,
    "editable": true
   },
   "outputs": [],
   "source": [
    "import time\n",
    "h = f.qshift[0].astype('float32')\n",
    "time1 = time.time()\n",
    "for i in range(1000):\n",
    "    colf(im, h)\n",
    "time2 = time.time()\n",
    "print('Took {:3f} ms'.format((time2-time1)*1000.0))"
   ]
  },
  {
   "cell_type": "code",
   "execution_count": null,
   "metadata": {
    "deletable": true,
    "editable": true
   },
   "outputs": [],
   "source": [
    "batch = np.stack([im]*100,axis=0)\n",
    "\n",
    "time1 = time.time()\n",
    "for i in range(10):\n",
    "    b = sess.run(y1, feed_dict={in_:batch})\n",
    "time2 = time.time()\n",
    "print('Took {:3f} ms'.format((time2-time1)*1000.0))"
   ]
  },
  {
   "cell_type": "code",
   "execution_count": null,
   "metadata": {
    "deletable": true,
    "editable": true
   },
   "outputs": [],
   "source": [
    "# On an M60 tesla, these were about the same time"
   ]
  },
  {
   "cell_type": "code",
   "execution_count": null,
   "metadata": {
    "deletable": true,
    "editable": true
   },
   "outputs": [],
   "source": [
    "# Now compare when we have to do multiple convolutions"
   ]
  },
  {
   "cell_type": "code",
   "execution_count": null,
   "metadata": {
    "deletable": true,
    "editable": true
   },
   "outputs": [],
   "source": [
    "time1 = time.time()\n",
    "for i in range(1000):\n",
    "    colf(colf(colf(im, h),h),h)\n",
    "time2 = time.time()\n",
    "print('Took {:3f} ms'.format((time2-time1)*1000.0))"
   ]
  },
  {
   "cell_type": "code",
   "execution_count": null,
   "metadata": {
    "deletable": true,
    "editable": true
   },
   "outputs": [],
   "source": [
    "y1 = colfilter(colfilter(colfilter(in_, h1o),h1o),h1o)\n",
    "time1 = time.time()\n",
    "for i in range(10):\n",
    "    b = sess.run(y1, feed_dict={in_:batch})\n",
    "time2 = time.time()\n",
    "print('Took {:3f} ms'.format((time2-time1)*1000.0))"
   ]
  }
 ],
 "metadata": {
  "kernelspec": {
   "display_name": "deconv_tf_vis",
   "language": "python",
   "name": "deconv_tf_vis"
  },
  "language_info": {
   "codemirror_mode": {
    "name": "ipython",
    "version": 3
   },
   "file_extension": ".py",
   "mimetype": "text/x-python",
   "name": "python",
   "nbconvert_exporter": "python",
   "pygments_lexer": "ipython3"
  }
 },
 "nbformat": 4,
 "nbformat_minor": 2
}
